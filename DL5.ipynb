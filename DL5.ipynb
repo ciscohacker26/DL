{
 "cells": [
  {
   "cell_type": "markdown",
   "id": "ecc4d52d",
   "metadata": {},
   "source": [
    "# Assignment 5"
   ]
  },
  {
   "cell_type": "code",
   "execution_count": 1,
   "id": "962f7917",
   "metadata": {},
   "outputs": [
    {
     "name": "stderr",
     "output_type": "stream",
     "text": [
      "C:\\Users\\LENOVO\\AppData\\Roaming\\Python\\Python39\\site-packages\\scipy\\__init__.py:146: UserWarning: A NumPy version >=1.17.3 and <1.25.0 is required for this version of SciPy (detected version 1.26.0\n",
      "  warnings.warn(f\"A NumPy version >={np_minversion} and <{np_maxversion}\"\n"
     ]
    }
   ],
   "source": [
    "import matplotlib.pyplot as plt\n",
    "import seaborn as sns\n",
    "import matplotlib as mpl\n",
    "import matplotlib.pylab as pylab\n",
    "import numpy as np \n",
    "%matplotlib inline"
   ]
  },
  {
   "cell_type": "code",
   "execution_count": 2,
   "id": "f8fb0207",
   "metadata": {},
   "outputs": [],
   "source": [
    "#Python has a built-in package called re , which can be used to work with Regular Expressions\n",
    "import re"
   ]
  },
  {
   "cell_type": "code",
   "execution_count": 3,
   "id": "59c9d7fa",
   "metadata": {},
   "outputs": [],
   "source": [
    "sentences = \"\"\"We are about to study the idea of a computational process.\n",
    "Computational processes are abstract beings that inhabit computers.\n",
    "As they evolve, processes manipulate other abstract things called data.\n",
    "The evolution of a process is directed by a pattern of rules\n",
    "called a program. People create programs to direct processes. In effect,\n",
    "we conjure the spirits of the computer with our spells.\"\"\""
   ]
  },
  {
   "cell_type": "markdown",
   "id": "2686bf77",
   "metadata": {},
   "source": [
    "Clean the data"
   ]
  },
  {
   "cell_type": "code",
   "execution_count": 4,
   "id": "8096c140",
   "metadata": {},
   "outputs": [],
   "source": [
    "# remove special characters\n",
    "sentences = re.sub('[^A-Za-z0-9]+', ' ', sentences)\n",
    "# remove 1 letter words\n",
    "sentences = re.sub(r'(?:^| )\\w(?:$| )', ' ', sentences).strip()\n",
    "# lower all characters\n",
    "sentences = sentences.lower()"
   ]
  },
  {
   "cell_type": "markdown",
   "id": "c5f4daa9",
   "metadata": {},
   "source": [
    "Vocabulary"
   ]
  },
  {
   "cell_type": "code",
   "execution_count": 5,
   "id": "bde2d9f8",
   "metadata": {},
   "outputs": [],
   "source": [
    "words = sentences.split()\n",
    "vocab = set(words)"
   ]
  },
  {
   "cell_type": "code",
   "execution_count": 6,
   "id": "706cd373",
   "metadata": {},
   "outputs": [],
   "source": [
    "vocab_size = len(vocab)\n",
    "embed_dim = 10\n",
    "context_size = 2"
   ]
  },
  {
   "cell_type": "markdown",
   "id": "68e8be5d",
   "metadata": {},
   "source": [
    "Implementation"
   ]
  },
  {
   "cell_type": "code",
   "execution_count": 7,
   "id": "2b52fb67",
   "metadata": {},
   "outputs": [],
   "source": [
    "word_to_ix = {word: i for i, word in enumerate(vocab)}\n",
    "ix_to_word = {i: word for i, word in enumerate(vocab)}"
   ]
  },
  {
   "cell_type": "markdown",
   "id": "e6da8315",
   "metadata": {},
   "source": [
    "Data bags"
   ]
  },
  {
   "cell_type": "code",
   "execution_count": 8,
   "id": "45d0882b",
   "metadata": {},
   "outputs": [
    {
     "name": "stdout",
     "output_type": "stream",
     "text": [
      "[(['we', 'are', 'to', 'study'], 'about'), (['are', 'about', 'study', 'the'], 'to'), (['about', 'to', 'the', 'idea'], 'study'), (['to', 'study', 'idea', 'of'], 'the'), (['study', 'the', 'of', 'computational'], 'idea')]\n"
     ]
    }
   ],
   "source": [
    "# data - [(context), target]\n",
    "data = []\n",
    "for i in range(2, len(words) - 2):\n",
    "   context = [words[i - 2], words[i - 1], words[i + 1], words[i + 2]]\n",
    "   target = words[i]\n",
    "   data.append((context, target))\n",
    "print(data[:5])"
   ]
  },
  {
   "cell_type": "markdown",
   "id": "b4a74144",
   "metadata": {},
   "source": [
    "Embedding"
   ]
  },
  {
   "cell_type": "code",
   "execution_count": 9,
   "id": "71463804",
   "metadata": {},
   "outputs": [],
   "source": [
    "embeddings = np.random.random_sample((vocab_size, embed_dim))"
   ]
  },
  {
   "cell_type": "markdown",
   "id": "e7e60f02",
   "metadata": {},
   "source": [
    "Linear Model"
   ]
  },
  {
   "cell_type": "code",
   "execution_count": 10,
   "id": "b1b7c87d",
   "metadata": {},
   "outputs": [],
   "source": [
    "def linear(m, theta):\n",
    " w = theta\n",
    " return m.dot(w)"
   ]
  },
  {
   "cell_type": "markdown",
   "id": "d586d5f0",
   "metadata": {},
   "source": [
    "Log softmax + NLLloss = Cross Entropy"
   ]
  },
  {
   "cell_type": "code",
   "execution_count": 11,
   "id": "bf113e6d",
   "metadata": {},
   "outputs": [],
   "source": [
    "def log_softmax(x):\n",
    " e_x = np.exp(x - np.max(x))\n",
    " return np.log(e_x / e_x.sum())"
   ]
  },
  {
   "cell_type": "code",
   "execution_count": 12,
   "id": "846ca184",
   "metadata": {},
   "outputs": [],
   "source": [
    "def NLLLoss(logs, targets):\n",
    " out = logs[range(len(targets)), targets]\n",
    " return -out.sum()/len(out)"
   ]
  },
  {
   "cell_type": "code",
   "execution_count": 13,
   "id": "d5338160",
   "metadata": {},
   "outputs": [],
   "source": [
    "def log_softmax_crossentropy_with_logits(logits,target):\n",
    " out = np.zeros_like(logits)\n",
    " out[np.arange(len(logits)),target] = 1\n",
    " softmax = np.exp(logits) / np.exp(logits).sum(axis=-1,keepdims=True)\n",
    " return (- out + softmax) / logits.shape[0]"
   ]
  },
  {
   "cell_type": "markdown",
   "id": "bdc6e56e",
   "metadata": {},
   "source": [
    "forward function"
   ]
  },
  {
   "cell_type": "code",
   "execution_count": 14,
   "id": "aea1658c",
   "metadata": {},
   "outputs": [],
   "source": [
    "def forward(context_idxs, theta):\n",
    "  m = embeddings[context_idxs].reshape(1, -1)\n",
    "  n = linear(m, theta)\n",
    "  o = log_softmax(n)\n",
    "  return m, n, o"
   ]
  },
  {
   "cell_type": "markdown",
   "id": "de615f93",
   "metadata": {},
   "source": [
    "backward function"
   ]
  },
  {
   "cell_type": "code",
   "execution_count": 15,
   "id": "611c3d45",
   "metadata": {},
   "outputs": [],
   "source": [
    "def backward(preds, theta, target_idxs):\n",
    " m, n, o = preds\n",
    " dlog = log_softmax_crossentropy_with_logits(n, target_idxs)\n",
    " dw = m.T.dot(dlog)\n",
    " return dw"
   ]
  },
  {
   "cell_type": "code",
   "execution_count": 16,
   "id": "3379e5ce",
   "metadata": {},
   "outputs": [],
   "source": [
    "def optimize(theta, grad, lr=0.03):\n",
    " theta -= grad * lr\n",
    " return theta"
   ]
  },
  {
   "cell_type": "markdown",
   "id": "db1ac16c",
   "metadata": {},
   "source": [
    "training"
   ]
  },
  {
   "cell_type": "code",
   "execution_count": 17,
   "id": "de2ef300",
   "metadata": {},
   "outputs": [],
   "source": [
    "theta = np.random.uniform(-1, 1, (2 * context_size * embed_dim, vocab_size))"
   ]
  },
  {
   "cell_type": "code",
   "execution_count": 18,
   "id": "1f88b301",
   "metadata": {},
   "outputs": [],
   "source": [
    "epoch_losses= {}"
   ]
  },
  {
   "cell_type": "code",
   "execution_count": 19,
   "id": "992821e0",
   "metadata": {},
   "outputs": [],
   "source": [
    "for epoch in range(80):\n",
    " losses = []\n",
    " for context, target in data:\n",
    "     context_idxs = np.array([word_to_ix[w] for w in context])\n",
    "     preds = forward(context_idxs, theta)\n",
    "     target_idxs = np.array([word_to_ix[target]])\n",
    "     loss = NLLLoss(preds[-1], target_idxs)\n",
    "     losses.append(loss)\n",
    "     grad = backward(preds, theta, target_idxs)\n",
    "     theta = optimize(theta, grad, lr=0.03)\n",
    " epoch_losses[epoch] = losses "
   ]
  },
  {
   "cell_type": "markdown",
   "id": "41443e28",
   "metadata": {},
   "source": [
    "Analyze \n",
    "plot epoch/losses"
   ]
  },
  {
   "cell_type": "code",
   "execution_count": 20,
   "id": "3c53ca47",
   "metadata": {},
   "outputs": [
    {
     "data": {
      "text/plain": [
       "Text(0, 0.5, 'Losses')"
      ]
     },
     "execution_count": 20,
     "metadata": {},
     "output_type": "execute_result"
    },
    {
     "data": {
      "image/png": "[encoded data removed]",
      "text/plain": [
       "<Figure size 432x288 with 1 Axes>"
      ]
     },
     "metadata": {
      "needs_background": "light"
     },
     "output_type": "display_data"
    }
   ],
   "source": [
    "ix = np.arange(0,80)\n",
    "fig = plt.figure()\n",
    "fig.suptitle('Epoch/Losses', fontsize=20)\n",
    "plt.plot(ix,[epoch_losses[i][0] for i in ix])\n",
    "plt.xlabel('Epochs', fontsize=12)\n",
    "plt.ylabel('Losses', fontsize=12)"
   ]
  },
  {
   "cell_type": "markdown",
   "id": "635a0b21",
   "metadata": {},
   "source": [
    "prediction"
   ]
  },
  {
   "cell_type": "code",
   "execution_count": 21,
   "id": "1380fc96",
   "metadata": {},
   "outputs": [],
   "source": [
    "def predict(words):\n",
    " context_idxs = np.array([word_to_ix[w] for w in words])\n",
    " preds = forward(context_idxs, theta)\n",
    " word = ix_to_word[np.argmax(preds[-1])]\n",
    " return word"
   ]
  },
  {
   "cell_type": "code",
   "execution_count": 22,
   "id": "e37df98b",
   "metadata": {},
   "outputs": [
    {
     "data": {
      "text/plain": [
       "'about'"
      ]
     },
     "execution_count": 22,
     "metadata": {},
     "output_type": "execute_result"
    }
   ],
   "source": [
    "predict(['we', 'are', 'to', 'study'])"
   ]
  },
  {
   "cell_type": "markdown",
   "id": "f52d55cd",
   "metadata": {},
   "source": [
    "Accuracy"
   ]
  },
  {
   "cell_type": "code",
   "execution_count": 23,
   "id": "a1c32bdc",
   "metadata": {},
   "outputs": [],
   "source": [
    "def accuracy():\n",
    " wrong = 0\n",
    " for context, target in data:\n",
    "   if(predict(context) != target):\n",
    "    wrong += 1\n",
    " return (1 - (wrong / len(data)))"
   ]
  },
  {
   "cell_type": "code",
   "execution_count": 24,
   "id": "3ba5c6f3",
   "metadata": {},
   "outputs": [
    {
     "data": {
      "text/plain": [
       "1.0"
      ]
     },
     "execution_count": 24,
     "metadata": {},
     "output_type": "execute_result"
    }
   ],
   "source": [
    "accuracy()"
   ]
  },
  {
   "cell_type": "code",
   "execution_count": 25,
   "id": "405f507b",
   "metadata": {},
   "outputs": [
    {
     "data": {
      "text/plain": [
       "'computational'"
      ]
     },
     "execution_count": 25,
     "metadata": {},
     "output_type": "execute_result"
    }
   ],
   "source": [
    "predict(['processes', 'manipulate', 'things', 'study'])"
   ]
  },
  {
   "cell_type": "code",
   "execution_count": null,
   "id": "db97cdfa",
   "metadata": {},
   "outputs": [],
   "source": []
  }
 ],
 "metadata": {
  "kernelspec": {
   "display_name": "Python 3 (ipykernel)",
   "language": "python",
   "name": "python3"
  },
  "language_info": {
   "codemirror_mode": {
    "name": "ipython",
    "version": 3
   },
   "file_extension": ".py",
   "mimetype": "text/x-python",
   "name": "python",
   "nbconvert_exporter": "python",
   "pygments_lexer": "ipython3",
   "version": "3.9.13"
  }
 },
 "nbformat": 4,
 "nbformat_minor": 5
}
